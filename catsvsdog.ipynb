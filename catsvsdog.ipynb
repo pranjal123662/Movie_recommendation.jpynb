{
  "nbformat": 4,
  "nbformat_minor": 0,
  "metadata": {
    "colab": {
      "name": "catsvsdog.ipynb",
      "provenance": [],
      "authorship_tag": "ABX9TyMkPXLLzWiB5HtEOCQy6tQK",
      "include_colab_link": true
    },
    "kernelspec": {
      "name": "python3",
      "display_name": "Python 3"
    },
    "accelerator": "GPU"
  },
  "cells": [
    {
      "cell_type": "markdown",
      "metadata": {
        "id": "view-in-github",
        "colab_type": "text"
      },
      "source": [
        "<a href=\"https://colab.research.google.com/github/pranjal123662/Movie_recommendation.jpynb/blob/master/catsvsdog.ipynb\" target=\"_parent\"><img src=\"https://colab.research.google.com/assets/colab-badge.svg\" alt=\"Open In Colab\"/></a>"
      ]
    },
    {
      "cell_type": "code",
      "metadata": {
        "id": "U3YCbYL5gZBM",
        "colab_type": "code",
        "colab": {
          "base_uri": "https://localhost:8080/",
          "height": 84
        },
        "outputId": "f4bb7583-59c1-4c2b-cee0-305d51a2cd82"
      },
      "source": [
        "import os\n",
        "os.environ['KAGGLE_USERNAME']=\"ghfg345\"\n",
        "os.environ['KAGGLE_KEY']=\"b14d17514434e4d1c1168803520e2b61\"\n",
        "!kaggle competitions download -c dogs-vs-cats"
      ],
      "execution_count": 8,
      "outputs": [
        {
          "output_type": "stream",
          "text": [
            "Warning: Looks like you're using an outdated API Version, please consider updating (server 1.5.6 / client 1.5.4)\n",
            "sampleSubmission.csv: Skipping, found more recently modified local copy (use --force to force download)\n",
            "test1.zip: Skipping, found more recently modified local copy (use --force to force download)\n",
            "train.zip: Skipping, found more recently modified local copy (use --force to force download)\n"
          ],
          "name": "stdout"
        }
      ]
    },
    {
      "cell_type": "code",
      "metadata": {
        "id": "ZYNyYoEbkxOb",
        "colab_type": "code",
        "colab": {
          "base_uri": "https://localhost:8080/",
          "height": 34
        },
        "outputId": "e3cfc23c-7305-4745-f5e1-d80a8d143e99"
      },
      "source": [
        "from zipfile import ZipFile\n",
        "file_name='/content/train.zip'\n",
        "with ZipFile(file_name,'r') as zip:\n",
        "  zip.extractall()\n",
        "  print('done')"
      ],
      "execution_count": 9,
      "outputs": [
        {
          "output_type": "stream",
          "text": [
            "done\n"
          ],
          "name": "stdout"
        }
      ]
    },
    {
      "cell_type": "code",
      "metadata": {
        "id": "41rTZ4zykxf5",
        "colab_type": "code",
        "colab": {
          "base_uri": "https://localhost:8080/",
          "height": 34
        },
        "outputId": "7b6ec3c7-ee48-4e32-bfcb-3d593fd6a066"
      },
      "source": [
        "data_dir_list = os.listdir('/content/train')\n",
        "#print(data_dir_list)\n",
        "\n",
        "path, dirs, files = next(os.walk(\"/content/train\"))\n",
        "file_count = len(files)\n",
        "print(file_count)"
      ],
      "execution_count": 14,
      "outputs": [
        {
          "output_type": "stream",
          "text": [
            "25000\n"
          ],
          "name": "stdout"
        }
      ]
    },
    {
      "cell_type": "code",
      "metadata": {
        "id": "13BnR_iEwNRL",
        "colab_type": "code",
        "colab": {
          "base_uri": "https://localhost:8080/",
          "height": 195
        },
        "outputId": "5c9f132e-a0df-40aa-9262-b552fcf3dab1"
      },
      "source": [
        "original_dataset_dir = '/content/train'\n",
        "base_dir = '/content/cats_and_dogs_small'\n",
        "os.mkdir(base_dir)"
      ],
      "execution_count": 16,
      "outputs": [
        {
          "output_type": "error",
          "ename": "FileExistsError",
          "evalue": "ignored",
          "traceback": [
            "\u001b[0;31m---------------------------------------------------------------------------\u001b[0m",
            "\u001b[0;31mFileExistsError\u001b[0m                           Traceback (most recent call last)",
            "\u001b[0;32m<ipython-input-16-d4aac3bc9266>\u001b[0m in \u001b[0;36m<module>\u001b[0;34m()\u001b[0m\n\u001b[1;32m      1\u001b[0m \u001b[0moriginal_dataset_dir\u001b[0m \u001b[0;34m=\u001b[0m \u001b[0;34m'/content/train'\u001b[0m\u001b[0;34m\u001b[0m\u001b[0;34m\u001b[0m\u001b[0m\n\u001b[1;32m      2\u001b[0m \u001b[0mbase_dir\u001b[0m \u001b[0;34m=\u001b[0m \u001b[0;34m'/content/cats_and_dogs_small'\u001b[0m\u001b[0;34m\u001b[0m\u001b[0;34m\u001b[0m\u001b[0m\n\u001b[0;32m----> 3\u001b[0;31m \u001b[0mos\u001b[0m\u001b[0;34m.\u001b[0m\u001b[0mmkdir\u001b[0m\u001b[0;34m(\u001b[0m\u001b[0mbase_dir\u001b[0m\u001b[0;34m)\u001b[0m\u001b[0;34m\u001b[0m\u001b[0;34m\u001b[0m\u001b[0m\n\u001b[0m",
            "\u001b[0;31mFileExistsError\u001b[0m: [Errno 17] File exists: '/content/cats_and_dogs_small'"
          ]
        }
      ]
    },
    {
      "cell_type": "code",
      "metadata": {
        "id": "hdiEyDX11jzz",
        "colab_type": "code",
        "colab": {}
      },
      "source": [
        "train_dir = os.path.join(base_dir, 'train')\n",
        "os.mkdir(train_dir)\n",
        "\n",
        "validation_dir = os.path.join(base_dir, 'validation')\n",
        "os.mkdir(validation_dir)\n",
        "\n",
        "test_dir = os.path.join(base_dir, 'test')\n",
        "os.mkdir(test_dir)\n",
        "\n",
        "train_cats_dir = os.path.join(train_dir, 'cats')\n",
        "os.mkdir(train_cats_dir)\n",
        "\n",
        "train_dogs_dir = os.path.join(train_dir, 'dogs')\n",
        "os.mkdir(train_dogs_dir)\n",
        "\n",
        "validation_cats_dir = os.path.join(validation_dir, 'cats')\n",
        "os.mkdir(validation_cats_dir)\n",
        "\n",
        "validation_dogs_dir = os.path.join(validation_dir, 'dogs')\n",
        "os.mkdir(validation_dogs_dir)\n",
        "\n",
        "test_cats_dir = os.path.join(test_dir, 'cats')\n",
        "os.mkdir(test_cats_dir)\n",
        "\n",
        "test_dogs_dir = os.path.join(test_dir, 'dogs')\n",
        "os.mkdir(test_dogs_dir)"
      ],
      "execution_count": 0,
      "outputs": []
    },
    {
      "cell_type": "code",
      "metadata": {
        "id": "WE9i_GWe1r6L",
        "colab_type": "code",
        "colab": {}
      },
      "source": [
        "import shutil\n",
        "fnames = ['cat.{}.jpg'.format(i) for i in range(1000)]\n",
        "for fname in fnames:\n",
        "    src = os.path.join(original_dataset_dir, fname)\n",
        "    dst = os.path.join(train_cats_dir, fname)\n",
        "    #print(src,dst)\n",
        "    shutil.copyfile(src, dst)\n",
        "    \n",
        "fnames = ['cat.{}.jpg'.format(i) for i in range(1000, 1500)]\n",
        "for fname in fnames:\n",
        "    src = os.path.join(original_dataset_dir, fname)\n",
        "    dst = os.path.join(validation_cats_dir, fname)\n",
        "    shutil.copyfile(src, dst)\n",
        "\n",
        "fnames = ['cat.{}.jpg'.format(i) for i in range(1500, 2000)]\n",
        "for fname in fnames:\n",
        "    src = os.path.join(original_dataset_dir, fname)\n",
        "    dst = os.path.join(test_cats_dir, fname)\n",
        "    shutil.copyfile(src, dst)\n",
        "    \n",
        "fnames = ['dog.{}.jpg'.format(i) for i in range(1000)]\n",
        "for fname in fnames:\n",
        "    src = os.path.join(original_dataset_dir, fname)\n",
        "    dst = os.path.join(train_dogs_dir, fname)\n",
        "    shutil.copyfile(src, dst)\n",
        "\n",
        "fnames = ['dog.{}.jpg'.format(i) for i in range(1000, 1500)]\n",
        "for fname in fnames:\n",
        "    src = os.path.join(original_dataset_dir, fname)\n",
        "    dst = os.path.join(validation_dogs_dir, fname)\n",
        "    shutil.copyfile(src, dst)\n",
        "\n",
        "fnames = ['dog.{}.jpg'.format(i) for i in range(1500, 2000)]\n",
        "for fname in fnames:\n",
        "    src = os.path.join(original_dataset_dir, fname)\n",
        "    dst = os.path.join(test_dogs_dir, fname)\n",
        "    shutil.copyfile(src, dst)"
      ],
      "execution_count": 0,
      "outputs": []
    },
    {
      "cell_type": "code",
      "metadata": {
        "id": "oUoS2k1Z1xLo",
        "colab_type": "code",
        "colab": {
          "base_uri": "https://localhost:8080/",
          "height": 118
        },
        "outputId": "4fce3cac-bba4-44b1-f95d-9fd2d8666c95"
      },
      "source": [
        "print('total training cat images:', len(os.listdir(train_cats_dir)))\n",
        "print('total training dog images:', len(os.listdir(train_dogs_dir)))\n",
        "print('total validation cat images:', len(os.listdir(validation_cats_dir)))\n",
        "\n",
        "print('total validation dog images:', len(os.listdir(validation_dogs_dir)))\n",
        "print('total test cat images:', len(os.listdir(test_cats_dir)))\n",
        "print('total test dog images:', len(os.listdir(test_dogs_dir)))"
      ],
      "execution_count": 19,
      "outputs": [
        {
          "output_type": "stream",
          "text": [
            "total training cat images: 1000\n",
            "total training dog images: 1000\n",
            "total validation cat images: 500\n",
            "total validation dog images: 500\n",
            "total test cat images: 500\n",
            "total test dog images: 500\n"
          ],
          "name": "stdout"
        }
      ]
    },
    {
      "cell_type": "code",
      "metadata": {
        "id": "hwOf75cR2Jg5",
        "colab_type": "code",
        "colab": {
          "base_uri": "https://localhost:8080/",
          "height": 521
        },
        "outputId": "e848abf9-cf80-49e8-d71a-bbb69d61aa97"
      },
      "source": [
        "from keras import layers\n",
        "from keras import models\n",
        "model=models.Sequential()\n",
        "model.add(layers.Conv2D(32,(3,3),activation='relu',input_shape=(150,150,3)))\n",
        "model.add(layers.MaxPooling2D((2,2)))\n",
        "model.add(layers.Conv2D(64,(3,3),activation='relu'))\n",
        "model.add(layers.MaxPooling2D((2,2)))\n",
        "model.add(layers.Conv2D(128,(3,3),activation='relu'))\n",
        "model.add(layers.MaxPooling2D((2,2)))\n",
        "model.add(layers.Conv2D(128, (3, 3), activation='relu'))\n",
        "model.add(layers.MaxPooling2D((2, 2)))\n",
        "model.add(layers.Flatten())\n",
        "model.add(layers.Dense(512, activation='relu'))\n",
        "model.add(layers.Dense(1, activation='sigmoid'))\n",
        "model.summary()\n"
      ],
      "execution_count": 22,
      "outputs": [
        {
          "output_type": "stream",
          "text": [
            "Model: \"sequential_1\"\n",
            "_________________________________________________________________\n",
            "Layer (type)                 Output Shape              Param #   \n",
            "=================================================================\n",
            "conv2d_1 (Conv2D)            (None, 148, 148, 32)      896       \n",
            "_________________________________________________________________\n",
            "max_pooling2d_1 (MaxPooling2 (None, 74, 74, 32)        0         \n",
            "_________________________________________________________________\n",
            "conv2d_2 (Conv2D)            (None, 72, 72, 64)        18496     \n",
            "_________________________________________________________________\n",
            "max_pooling2d_2 (MaxPooling2 (None, 36, 36, 64)        0         \n",
            "_________________________________________________________________\n",
            "conv2d_3 (Conv2D)            (None, 34, 34, 128)       73856     \n",
            "_________________________________________________________________\n",
            "max_pooling2d_3 (MaxPooling2 (None, 17, 17, 128)       0         \n",
            "_________________________________________________________________\n",
            "conv2d_4 (Conv2D)            (None, 15, 15, 128)       147584    \n",
            "_________________________________________________________________\n",
            "max_pooling2d_4 (MaxPooling2 (None, 7, 7, 128)         0         \n",
            "_________________________________________________________________\n",
            "flatten_1 (Flatten)          (None, 6272)              0         \n",
            "_________________________________________________________________\n",
            "dense_1 (Dense)              (None, 512)               3211776   \n",
            "_________________________________________________________________\n",
            "dense_2 (Dense)              (None, 1)                 513       \n",
            "=================================================================\n",
            "Total params: 3,453,121\n",
            "Trainable params: 3,453,121\n",
            "Non-trainable params: 0\n",
            "_________________________________________________________________\n"
          ],
          "name": "stdout"
        }
      ]
    },
    {
      "cell_type": "code",
      "metadata": {
        "id": "I6WgzQrD4uiq",
        "colab_type": "code",
        "colab": {}
      },
      "source": [
        "from keras import optimizers\n",
        "model.compile(loss='binary_crossentropy',optimizer=optimizers.RMSprop(lr=1e-4),\n",
        "              metrics=['acc'])"
      ],
      "execution_count": 0,
      "outputs": []
    },
    {
      "cell_type": "code",
      "metadata": {
        "id": "yLxuMkF_6zPT",
        "colab_type": "code",
        "colab": {
          "base_uri": "https://localhost:8080/",
          "height": 50
        },
        "outputId": "f8c7fb14-ca75-416b-f66f-b9f17bd8fc28"
      },
      "source": [
        "from keras.preprocessing.image import ImageDataGenerator\n",
        "\n",
        "train_datagen = ImageDataGenerator(rescale=1./255)\n",
        "test_datagen = ImageDataGenerator(rescale=1./255)\n",
        "\n",
        "train_generator = train_datagen.flow_from_directory(train_dir,\n",
        "                                                    target_size=(150, 150), \n",
        "                                                    batch_size=20,\n",
        "                                                    class_mode='binary')\n",
        "\n",
        "validation_generator = test_datagen.flow_from_directory(validation_dir,\n",
        "                                                        target_size=(150, 150),\n",
        "                                                        batch_size=20,\n",
        "                                                        class_mode='binary')"
      ],
      "execution_count": 25,
      "outputs": [
        {
          "output_type": "stream",
          "text": [
            "Found 2000 images belonging to 2 classes.\n",
            "Found 1000 images belonging to 2 classes.\n"
          ],
          "name": "stdout"
        }
      ]
    },
    {
      "cell_type": "code",
      "metadata": {
        "id": "bO_Yqv7j7AiJ",
        "colab_type": "code",
        "colab": {
          "base_uri": "https://localhost:8080/",
          "height": 1000
        },
        "outputId": "c0e85292-2068-4e7d-d3ce-14a7c4074177"
      },
      "source": [
        "history = model.fit_generator(train_generator,\n",
        "                              steps_per_epoch=100,\n",
        "                              epochs=30,\n",
        "                              validation_data=validation_generator,\n",
        "                              validation_steps=10)"
      ],
      "execution_count": 26,
      "outputs": [
        {
          "output_type": "stream",
          "text": [
            "Epoch 1/30\n",
            "100/100 [==============================] - 12s 122ms/step - loss: 0.6859 - acc: 0.5510 - val_loss: 0.7084 - val_acc: 0.6300\n",
            "Epoch 2/30\n",
            "100/100 [==============================] - 6s 61ms/step - loss: 0.6613 - acc: 0.6040 - val_loss: 0.6560 - val_acc: 0.6400\n",
            "Epoch 3/30\n",
            "100/100 [==============================] - 6s 62ms/step - loss: 0.6257 - acc: 0.6560 - val_loss: 0.5619 - val_acc: 0.6800\n",
            "Epoch 4/30\n",
            "100/100 [==============================] - 6s 61ms/step - loss: 0.5818 - acc: 0.7015 - val_loss: 0.6191 - val_acc: 0.6800\n",
            "Epoch 5/30\n",
            "100/100 [==============================] - 6s 60ms/step - loss: 0.5481 - acc: 0.7170 - val_loss: 0.4878 - val_acc: 0.6750\n",
            "Epoch 6/30\n",
            "100/100 [==============================] - 6s 62ms/step - loss: 0.5113 - acc: 0.7450 - val_loss: 0.6805 - val_acc: 0.6950\n",
            "Epoch 7/30\n",
            "100/100 [==============================] - 6s 61ms/step - loss: 0.4877 - acc: 0.7770 - val_loss: 0.4194 - val_acc: 0.7200\n",
            "Epoch 8/30\n",
            "100/100 [==============================] - 6s 62ms/step - loss: 0.4631 - acc: 0.7745 - val_loss: 0.5060 - val_acc: 0.6950\n",
            "Epoch 9/30\n",
            "100/100 [==============================] - 6s 61ms/step - loss: 0.4381 - acc: 0.7955 - val_loss: 0.3488 - val_acc: 0.6950\n",
            "Epoch 10/30\n",
            "100/100 [==============================] - 6s 62ms/step - loss: 0.4137 - acc: 0.8115 - val_loss: 0.7018 - val_acc: 0.7350\n",
            "Epoch 11/30\n",
            "100/100 [==============================] - 6s 63ms/step - loss: 0.3907 - acc: 0.8230 - val_loss: 0.7495 - val_acc: 0.7100\n",
            "Epoch 12/30\n",
            "100/100 [==============================] - 6s 61ms/step - loss: 0.3704 - acc: 0.8390 - val_loss: 0.3999 - val_acc: 0.6850\n",
            "Epoch 13/30\n",
            "100/100 [==============================] - 6s 61ms/step - loss: 0.3455 - acc: 0.8515 - val_loss: 0.9116 - val_acc: 0.6200\n",
            "Epoch 14/30\n",
            "100/100 [==============================] - 6s 61ms/step - loss: 0.3221 - acc: 0.8750 - val_loss: 0.3634 - val_acc: 0.7800\n",
            "Epoch 15/30\n",
            "100/100 [==============================] - 6s 61ms/step - loss: 0.3021 - acc: 0.8695 - val_loss: 0.2881 - val_acc: 0.7600\n",
            "Epoch 16/30\n",
            "100/100 [==============================] - 6s 63ms/step - loss: 0.2825 - acc: 0.8835 - val_loss: 0.8873 - val_acc: 0.7050\n",
            "Epoch 17/30\n",
            "100/100 [==============================] - 6s 62ms/step - loss: 0.2513 - acc: 0.9010 - val_loss: 0.9931 - val_acc: 0.6850\n",
            "Epoch 18/30\n",
            "100/100 [==============================] - 6s 63ms/step - loss: 0.2386 - acc: 0.9110 - val_loss: 0.6026 - val_acc: 0.7150\n",
            "Epoch 19/30\n",
            "100/100 [==============================] - 6s 62ms/step - loss: 0.2199 - acc: 0.9170 - val_loss: 0.7082 - val_acc: 0.7300\n",
            "Epoch 20/30\n",
            "100/100 [==============================] - 6s 61ms/step - loss: 0.2012 - acc: 0.9265 - val_loss: 0.6288 - val_acc: 0.7450\n",
            "Epoch 21/30\n",
            "100/100 [==============================] - 6s 62ms/step - loss: 0.1851 - acc: 0.9320 - val_loss: 0.2790 - val_acc: 0.7550\n",
            "Epoch 22/30\n",
            "100/100 [==============================] - 6s 61ms/step - loss: 0.1603 - acc: 0.9440 - val_loss: 0.2682 - val_acc: 0.7750\n",
            "Epoch 23/30\n",
            "100/100 [==============================] - 6s 62ms/step - loss: 0.1446 - acc: 0.9475 - val_loss: 0.5359 - val_acc: 0.7500\n",
            "Epoch 24/30\n",
            "100/100 [==============================] - 6s 61ms/step - loss: 0.1288 - acc: 0.9600 - val_loss: 0.9625 - val_acc: 0.7300\n",
            "Epoch 25/30\n",
            "100/100 [==============================] - 6s 61ms/step - loss: 0.1168 - acc: 0.9640 - val_loss: 0.5976 - val_acc: 0.7000\n",
            "Epoch 26/30\n",
            "100/100 [==============================] - 6s 62ms/step - loss: 0.1002 - acc: 0.9690 - val_loss: 1.2617 - val_acc: 0.7250\n",
            "Epoch 27/30\n",
            "100/100 [==============================] - 6s 62ms/step - loss: 0.0826 - acc: 0.9780 - val_loss: 0.8272 - val_acc: 0.7600\n",
            "Epoch 28/30\n",
            "100/100 [==============================] - 6s 62ms/step - loss: 0.0714 - acc: 0.9830 - val_loss: 0.8612 - val_acc: 0.7450\n",
            "Epoch 29/30\n",
            "100/100 [==============================] - 6s 62ms/step - loss: 0.0712 - acc: 0.9775 - val_loss: 1.0895 - val_acc: 0.7250\n",
            "Epoch 30/30\n",
            "100/100 [==============================] - 6s 61ms/step - loss: 0.0530 - acc: 0.9865 - val_loss: 0.8718 - val_acc: 0.7300\n"
          ],
          "name": "stdout"
        }
      ]
    },
    {
      "cell_type": "code",
      "metadata": {
        "id": "tqOe4A7w7zzh",
        "colab_type": "code",
        "colab": {
          "base_uri": "https://localhost:8080/",
          "height": 545
        },
        "outputId": "33c3ad20-b4a3-46cc-912a-e40404d012f2"
      },
      "source": [
        "model.save('cats_and_dogs_small_1.h5')\n",
        "\n",
        "import matplotlib.pyplot as plt\n",
        "\n",
        "acc = history.history['acc']\n",
        "val_acc = history.history['val_acc']\n",
        "loss = history.history['loss']\n",
        "val_loss = history.history['val_loss']\n",
        "\n",
        "epochs = range(1, len(acc) + 1)\n",
        "\n",
        "plt.plot(epochs, acc, 'bo', label='Training acc')\n",
        "plt.plot(epochs, val_acc, 'b', label='Validation acc')\n",
        "plt.title('Training and validation accuracy')\n",
        "plt.legend()\n",
        "\n",
        "plt.figure()\n",
        "\n",
        "plt.plot(epochs, loss, 'bo', label='Training loss')\n",
        "plt.plot(epochs, val_loss, 'b', label='Validation loss')\n",
        "plt.title('Training and validation loss')\n",
        "plt.legend()\n",
        "\n",
        "plt.show()"
      ],
      "execution_count": 27,
      "outputs": [
        {
          "output_type": "display_data",
          "data": {
            "image/png": "[encoded data removed]",
            "text/plain": [
              "<Figure size 432x288 with 1 Axes>"
            ]
          },
          "metadata": {
            "tags": [],
            "needs_background": "light"
          }
        },
        {
          "output_type": "display_data",
          "data": {
            "image/png": "[encoded data removed]",
            "text/plain": [
              "<Figure size 432x288 with 1 Axes>"
            ]
          },
          "metadata": {
            "tags": [],
            "needs_background": "light"
          }
        }
      ]
    },
    {
      "cell_type": "code",
      "metadata": {
        "id": "_FYxLJZu72Lu",
        "colab_type": "code",
        "colab": {}
      },
      "source": [
        ""
      ],
      "execution_count": 0,
      "outputs": []
    }
  ]
}